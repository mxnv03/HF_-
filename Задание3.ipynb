{
  "nbformat": 4,
  "nbformat_minor": 0,
  "metadata": {
    "colab": {
      "provenance": []
    },
    "kernelspec": {
      "name": "python3",
      "display_name": "Python 3"
    },
    "language_info": {
      "name": "python"
    }
  },
  "cells": [
    {
      "cell_type": "code",
      "execution_count": null,
      "metadata": {
        "id": "0Wvqo1YIFiNa"
      },
      "outputs": [],
      "source": [
        "mport pandas as pd\n",
        "import psycopg2\n",
        "from psycopg2 import sql"
      ]
    },
    {
      "cell_type": "code",
      "source": [
        "import pandas as pd\n",
        "from sqlalchemy import create_engine\n",
        "\n",
        "db_username = 'max_admin'\n",
        "db_password = 'adm1n'\n",
        "db_host = 'localhost:8080'\n",
        "db_name = 'database_27'"
      ],
      "metadata": {
        "id": "kR_kQXoKFlyt"
      },
      "execution_count": null,
      "outputs": []
    },
    {
      "cell_type": "code",
      "source": [
        "excel_file = 'buildings.xlsx'\n",
        "df = pd.read_excel(excel_file)\n",
        "\n",
        "df = df[['jk_name', 'jk_id', 'korpus_id', 'square', 'price']]\n",
        "\n",
        "df = df[(df['korpus_id'] == 'K0003901') & (df['korpus_id'] == '5')]\n",
        "\n",
        "df['square'] = df['square'].astype(float)\n",
        "df['price'] = df['price'].astype(float)"
      ],
      "metadata": {
        "id": "gAXRR0q6F1VP"
      },
      "execution_count": null,
      "outputs": []
    },
    {
      "cell_type": "code",
      "source": [
        "connection = psycopg2.connect(\n",
        "    user=db_username,\n",
        "    password=db_password,\n",
        "    host=db_host,\n",
        "    database=db_name\n",
        ")\n",
        "\n",
        "cursor = connection.cursor()\n",
        "\n",
        "table_name = 'buildings'\n",
        "insert_query = sql.SQL('INSERT INTO nf.{table} ({columns}) VALUES ({values})').format(\n",
        "    table=sql.Identifier(table_name),\n",
        "    columns=sql.SQL(', ').join(map(sql.Identifier, df.columns)),\n",
        "    values=sql.SQL(', ').join(sql.Placeholder() * len(df.columns))\n",
        ")\n",
        "\n",
        "data_tuples = [tuple(row) for row in df.values]\n",
        "\n",
        "cursor.executemany(insert_query, data_tuples)\n",
        "connection.commit()\n",
        "connection.close()"
      ],
      "metadata": {
        "id": "i7omZBNwGC2l"
      },
      "execution_count": null,
      "outputs": []
    }
  ]
}